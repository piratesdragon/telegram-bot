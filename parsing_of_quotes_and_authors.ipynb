{
 "cells": [
  {
   "cell_type": "code",
   "execution_count": 1,
   "id": "093044da",
   "metadata": {},
   "outputs": [],
   "source": [
    "import requests as rq\n",
    "from bs4 import BeautifulSoup\n",
    "import re\n",
    "\n",
    "import time\n",
    "from time import sleep"
   ]
  },
  {
   "cell_type": "markdown",
   "id": "b89121c1",
   "metadata": {},
   "source": [
    "## Парсинг имен писателей"
   ]
  },
  {
   "cell_type": "code",
   "execution_count": 4,
   "id": "0ec73d2d",
   "metadata": {},
   "outputs": [],
   "source": [
    "url = \"https://www.100bestbooks.ru/names.php?npage=1\"\n",
    "page = rq.get(url)\n",
    "soup = BeautifulSoup(page.content, 'html.parser')\n",
    "authors_table = []\n",
    "for i in range(1, 8):\n",
    "    sleep(5)\n",
    "    url = f\"https://www.100bestbooks.ru/names.php?npage={i}\"\n",
    "    \n",
    "    page = rq.get(url)\n",
    "    soup = BeautifulSoup(page.content, 'html.parser')\n",
    "    authors = soup.findAll('span', {'itemprop':'name'})\n",
    "    for author in authors:\n",
    "        authors_table.append(author.text)\n",
    "        \n",
    "authors_surnames = [author.split(' ')[len(author.split(' '))-1].lower() for author in authors_table]"
   ]
  },
  {
   "cell_type": "code",
   "execution_count": 5,
   "id": "ef4a352f",
   "metadata": {},
   "outputs": [
    {
     "data": {
      "text/plain": [
       "['достоевский',\n",
       " 'булгаков',\n",
       " 'пушкин',\n",
       " 'гоголь',\n",
       " 'толстой',\n",
       " 'чехов',\n",
       " 'дюма',\n",
       " 'петров',\n",
       " 'тургенев',\n",
       " 'ремарк']"
      ]
     },
     "execution_count": 5,
     "metadata": {},
     "output_type": "execute_result"
    }
   ],
   "source": [
    "authors_surnames[0:10]"
   ]
  },
  {
   "cell_type": "code",
   "execution_count": null,
   "id": "80e8e6be",
   "metadata": {},
   "outputs": [],
   "source": [
    "with open('authors_surnames.txt', 'w') as f:\n",
    "    for author in authors_surnames:\n",
    "        f.write(f'{author} ')"
   ]
  },
  {
   "cell_type": "markdown",
   "id": "4589e71b",
   "metadata": {},
   "source": [
    "## Парсинг книжных цитат"
   ]
  },
  {
   "cell_type": "code",
   "execution_count": 6,
   "id": "acdace04",
   "metadata": {},
   "outputs": [],
   "source": [
    "quotes = []\n",
    "a = soup.findAll('div', class_ = 'field-item even last')\n",
    "for i in range(10):        \n",
    "    url = f\"https://citaty.info/topic/chtenie?page={i}\"\n",
    "    sleep(5)\n",
    "    page = rq.get(url)\n",
    "    soup = BeautifulSoup(page.content, 'html.parser')\n",
    "    this_page = soup.findAll('div', class_ = 'field-item even last')\n",
    "    for quote in this_page:\n",
    "        quotes.append(quote.text)"
   ]
  },
  {
   "cell_type": "code",
   "execution_count": 7,
   "id": "856c1a24",
   "metadata": {},
   "outputs": [],
   "source": [
    "for quote in quotes:\n",
    "    if re.findall('(сезон)|(серия)', quote) != []:\n",
    "        quotes.remove(quote)"
   ]
  },
  {
   "cell_type": "code",
   "execution_count": 10,
   "id": "a1c1747f",
   "metadata": {},
   "outputs": [
    {
     "name": "stdout",
     "output_type": "stream",
     "text": [
      "Лучший в мире кинозал — это мозг, и ты понимаешь это, когда читаешь хорошую книгу.\n"
     ]
    }
   ],
   "source": [
    "print(quotes[5])"
   ]
  },
  {
   "cell_type": "code",
   "execution_count": null,
   "id": "d6c98468",
   "metadata": {},
   "outputs": [],
   "source": [
    "with open('quotes_reading.txt', 'w') as f:\n",
    "    for quote in quotes:\n",
    "        f.write(f'{quote}\\n')"
   ]
  }
 ],
 "metadata": {
  "kernelspec": {
   "display_name": "Python 3 (ipykernel)",
   "language": "python",
   "name": "python3"
  },
  "language_info": {
   "codemirror_mode": {
    "name": "ipython",
    "version": 3
   },
   "file_extension": ".py",
   "mimetype": "text/x-python",
   "name": "python",
   "nbconvert_exporter": "python",
   "pygments_lexer": "ipython3",
   "version": "3.10.0"
  }
 },
 "nbformat": 4,
 "nbformat_minor": 5
}
